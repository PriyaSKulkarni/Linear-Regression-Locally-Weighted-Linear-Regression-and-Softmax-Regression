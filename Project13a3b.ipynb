{
  "nbformat": 4,
  "nbformat_minor": 0,
  "metadata": {
    "colab": {
      "provenance": []
    },
    "kernelspec": {
      "name": "python3",
      "display_name": "Python 3"
    },
    "language_info": {
      "name": "python"
    }
  },
  "cells": [
    {
      "cell_type": "code",
      "execution_count": 230,
      "metadata": {
        "colab": {
          "base_uri": "https://localhost:8080/"
        },
        "id": "EqtS3xdKOxYR",
        "outputId": "26f57e3a-8a91-4f09-8418-ea5cca8d4338"
      },
      "outputs": [
        {
          "output_type": "stream",
          "name": "stdout",
          "text": [
            "Drive already mounted at /content/drive; to attempt to forcibly remount, call drive.mount(\"/content/drive\", force_remount=True).\n",
            "              height            diameter             weight               hue\n",
            "0   0.10085325871588    0.10347665370087   0.66000055127054   3.1061777201591\n",
            "1  0.097520805629366     0.1201052695695               0.75   1.4520706957674\n",
            "2  0.070973086761957   0.088622489628388   0.10604947426549   3.5044594187921\n",
            "3   0.11843514045485                0.15   0.33839714871863   5.6111022342157\n",
            "                 height            diameter             weight  \\\n",
            "0      0.12493777936236    0.13190375787948   0.38616824929558   \n",
            "1      0.14492137354649    0.12500746617994               0.75   \n",
            "2     0.071892497830642                0.03    0.1631761874001   \n",
            "3     0.084260612354435   0.037681879898677   0.23151165834924   \n",
            "4                  0.07   0.090347950123449   0.19177699658224   \n",
            "..                  ...                 ...                ...   \n",
            "115    0.15324808700145     0.1301638325634   0.40118457408591   \n",
            "116    0.12021522833926    0.11607358210855   0.33882777489585   \n",
            "117    0.07556917126148   0.072067954099429   0.16160560001853   \n",
            "118    0.13137129130651   0.091788907990009    0.2781412506351   \n",
            "119    0.12825404991764    0.14820139358115   0.45533536592389   \n",
            "\n",
            "                   hue      class  \n",
            "0      2.9517669794008   Plastic   \n",
            "1      3.4378755151121   Ceramic   \n",
            "2      4.0521528606463   Plastic   \n",
            "3      6.2831853071796   Ceramic   \n",
            "4      2.1255038511543   Plastic   \n",
            "..                 ...        ...  \n",
            "115    2.1792391626888   Plastic   \n",
            "116   0.87686630388415   Plastic   \n",
            "117    3.3382783895954   Plastic   \n",
            "118    2.3833925805427   Plastic   \n",
            "119    2.6866075609372   Plastic   \n",
            "\n",
            "[120 rows x 5 columns]\n"
          ]
        }
      ],
      "source": [
        "# I have used my google drive to load the training and testing data\n",
        "# Upload the dataset file in your google drive and change the path to run the below line\n",
        "from google.colab import drive\n",
        "drive.mount('/content/drive')\n",
        "import numpy as np\n",
        "import pandas as pd\n",
        "import math\n",
        "import matplotlib.pyplot as plt\n",
        "import seaborn as sns\n",
        "from mpl_toolkits import mplot3d\n",
        "sns.set()\n",
        "import warnings\n",
        "warnings.filterwarnings(\"ignore\")\n",
        "# I have used my google drive to load the training and testing data\n",
        "# Upload the dataset file in your google drive and change the path to run the below line\n",
        "data= pd.read_csv('/content/drive/MyDrive/ML/Priyadataset2c.csv',dtype='object')\n",
        "test=pd.read_csv('/content/drive/MyDrive/ML/PriyaTestdata.csv',dtype='object')\n",
        "print(test)\n",
        "print(data)"
      ]
    },
    {
      "cell_type": "code",
      "source": [
        "test"
      ],
      "metadata": {
        "colab": {
          "base_uri": "https://localhost:8080/",
          "height": 174
        },
        "id": "QX6QGz8hO3_o",
        "outputId": "893044f5-7c7b-4f44-9fb6-1aa7c25c4290"
      },
      "execution_count": 213,
      "outputs": [
        {
          "output_type": "execute_result",
          "data": {
            "text/plain": [
              "              height            diameter             weight               hue\n",
              "0   0.10085325871588    0.10347665370087   0.66000055127054   3.1061777201591\n",
              "1  0.097520805629366     0.1201052695695               0.75   1.4520706957674\n",
              "2  0.070973086761957   0.088622489628388   0.10604947426549   3.5044594187921\n",
              "3   0.11843514045485                0.15   0.33839714871863   5.6111022342157"
            ],
            "text/html": [
              "\n",
              "  <div id=\"df-52333b40-9963-4375-abec-f5106e73a82e\">\n",
              "    <div class=\"colab-df-container\">\n",
              "      <div>\n",
              "<style scoped>\n",
              "    .dataframe tbody tr th:only-of-type {\n",
              "        vertical-align: middle;\n",
              "    }\n",
              "\n",
              "    .dataframe tbody tr th {\n",
              "        vertical-align: top;\n",
              "    }\n",
              "\n",
              "    .dataframe thead th {\n",
              "        text-align: right;\n",
              "    }\n",
              "</style>\n",
              "<table border=\"1\" class=\"dataframe\">\n",
              "  <thead>\n",
              "    <tr style=\"text-align: right;\">\n",
              "      <th></th>\n",
              "      <th>height</th>\n",
              "      <th>diameter</th>\n",
              "      <th>weight</th>\n",
              "      <th>hue</th>\n",
              "    </tr>\n",
              "  </thead>\n",
              "  <tbody>\n",
              "    <tr>\n",
              "      <th>0</th>\n",
              "      <td>0.10085325871588</td>\n",
              "      <td>0.10347665370087</td>\n",
              "      <td>0.66000055127054</td>\n",
              "      <td>3.1061777201591</td>\n",
              "    </tr>\n",
              "    <tr>\n",
              "      <th>1</th>\n",
              "      <td>0.097520805629366</td>\n",
              "      <td>0.1201052695695</td>\n",
              "      <td>0.75</td>\n",
              "      <td>1.4520706957674</td>\n",
              "    </tr>\n",
              "    <tr>\n",
              "      <th>2</th>\n",
              "      <td>0.070973086761957</td>\n",
              "      <td>0.088622489628388</td>\n",
              "      <td>0.10604947426549</td>\n",
              "      <td>3.5044594187921</td>\n",
              "    </tr>\n",
              "    <tr>\n",
              "      <th>3</th>\n",
              "      <td>0.11843514045485</td>\n",
              "      <td>0.15</td>\n",
              "      <td>0.33839714871863</td>\n",
              "      <td>5.6111022342157</td>\n",
              "    </tr>\n",
              "  </tbody>\n",
              "</table>\n",
              "</div>\n",
              "      <button class=\"colab-df-convert\" onclick=\"convertToInteractive('df-52333b40-9963-4375-abec-f5106e73a82e')\"\n",
              "              title=\"Convert this dataframe to an interactive table.\"\n",
              "              style=\"display:none;\">\n",
              "        \n",
              "  <svg xmlns=\"http://www.w3.org/2000/svg\" height=\"24px\"viewBox=\"0 0 24 24\"\n",
              "       width=\"24px\">\n",
              "    <path d=\"M0 0h24v24H0V0z\" fill=\"none\"/>\n",
              "    <path d=\"M18.56 5.44l.94 2.06.94-2.06 2.06-.94-2.06-.94-.94-2.06-.94 2.06-2.06.94zm-11 1L8.5 8.5l.94-2.06 2.06-.94-2.06-.94L8.5 2.5l-.94 2.06-2.06.94zm10 10l.94 2.06.94-2.06 2.06-.94-2.06-.94-.94-2.06-.94 2.06-2.06.94z\"/><path d=\"M17.41 7.96l-1.37-1.37c-.4-.4-.92-.59-1.43-.59-.52 0-1.04.2-1.43.59L10.3 9.45l-7.72 7.72c-.78.78-.78 2.05 0 2.83L4 21.41c.39.39.9.59 1.41.59.51 0 1.02-.2 1.41-.59l7.78-7.78 2.81-2.81c.8-.78.8-2.07 0-2.86zM5.41 20L4 18.59l7.72-7.72 1.47 1.35L5.41 20z\"/>\n",
              "  </svg>\n",
              "      </button>\n",
              "      \n",
              "  <style>\n",
              "    .colab-df-container {\n",
              "      display:flex;\n",
              "      flex-wrap:wrap;\n",
              "      gap: 12px;\n",
              "    }\n",
              "\n",
              "    .colab-df-convert {\n",
              "      background-color: #E8F0FE;\n",
              "      border: none;\n",
              "      border-radius: 50%;\n",
              "      cursor: pointer;\n",
              "      display: none;\n",
              "      fill: #1967D2;\n",
              "      height: 32px;\n",
              "      padding: 0 0 0 0;\n",
              "      width: 32px;\n",
              "    }\n",
              "\n",
              "    .colab-df-convert:hover {\n",
              "      background-color: #E2EBFA;\n",
              "      box-shadow: 0px 1px 2px rgba(60, 64, 67, 0.3), 0px 1px 3px 1px rgba(60, 64, 67, 0.15);\n",
              "      fill: #174EA6;\n",
              "    }\n",
              "\n",
              "    [theme=dark] .colab-df-convert {\n",
              "      background-color: #3B4455;\n",
              "      fill: #D2E3FC;\n",
              "    }\n",
              "\n",
              "    [theme=dark] .colab-df-convert:hover {\n",
              "      background-color: #434B5C;\n",
              "      box-shadow: 0px 1px 3px 1px rgba(0, 0, 0, 0.15);\n",
              "      filter: drop-shadow(0px 1px 2px rgba(0, 0, 0, 0.3));\n",
              "      fill: #FFFFFF;\n",
              "    }\n",
              "  </style>\n",
              "\n",
              "      <script>\n",
              "        const buttonEl =\n",
              "          document.querySelector('#df-52333b40-9963-4375-abec-f5106e73a82e button.colab-df-convert');\n",
              "        buttonEl.style.display =\n",
              "          google.colab.kernel.accessAllowed ? 'block' : 'none';\n",
              "\n",
              "        async function convertToInteractive(key) {\n",
              "          const element = document.querySelector('#df-52333b40-9963-4375-abec-f5106e73a82e');\n",
              "          const dataTable =\n",
              "            await google.colab.kernel.invokeFunction('convertToInteractive',\n",
              "                                                     [key], {});\n",
              "          if (!dataTable) return;\n",
              "\n",
              "          const docLinkHtml = 'Like what you see? Visit the ' +\n",
              "            '<a target=\"_blank\" href=https://colab.research.google.com/notebooks/data_table.ipynb>data table notebook</a>'\n",
              "            + ' to learn more about interactive tables.';\n",
              "          element.innerHTML = '';\n",
              "          dataTable['output_type'] = 'display_data';\n",
              "          await google.colab.output.renderOutput(dataTable, element);\n",
              "          const docLink = document.createElement('div');\n",
              "          docLink.innerHTML = docLinkHtml;\n",
              "          element.appendChild(docLink);\n",
              "        }\n",
              "      </script>\n",
              "    </div>\n",
              "  </div>\n",
              "  "
            ]
          },
          "metadata": {},
          "execution_count": 213
        }
      ]
    },
    {
      "cell_type": "code",
      "source": [
        "x_train = data.iloc[:,0:4]\n",
        "print(x_train)\n",
        "y_train = data.iloc[:,4]\n",
        "print(y_train)\n",
        "x_train=x_train.astype('float64')\n",
        "x_train = x_train.values\n",
        "print(x_train)\n",
        "print(type(x_train))"
      ],
      "metadata": {
        "colab": {
          "base_uri": "https://localhost:8080/"
        },
        "id": "WUQ9kscGPbE0",
        "outputId": "4bdea55f-e3a0-42e7-f688-bfe7d26f03b1"
      },
      "execution_count": 214,
      "outputs": [
        {
          "output_type": "stream",
          "name": "stdout",
          "text": [
            "                 height            diameter             weight  \\\n",
            "0      0.12493777936236    0.13190375787948   0.38616824929558   \n",
            "1      0.14492137354649    0.12500746617994               0.75   \n",
            "2     0.071892497830642                0.03    0.1631761874001   \n",
            "3     0.084260612354435   0.037681879898677   0.23151165834924   \n",
            "4                  0.07   0.090347950123449   0.19177699658224   \n",
            "..                  ...                 ...                ...   \n",
            "115    0.15324808700145     0.1301638325634   0.40118457408591   \n",
            "116    0.12021522833926    0.11607358210855   0.33882777489585   \n",
            "117    0.07556917126148   0.072067954099429   0.16160560001853   \n",
            "118    0.13137129130651   0.091788907990009    0.2781412506351   \n",
            "119    0.12825404991764    0.14820139358115   0.45533536592389   \n",
            "\n",
            "                   hue  \n",
            "0      2.9517669794008  \n",
            "1      3.4378755151121  \n",
            "2      4.0521528606463  \n",
            "3      6.2831853071796  \n",
            "4      2.1255038511543  \n",
            "..                 ...  \n",
            "115    2.1792391626888  \n",
            "116   0.87686630388415  \n",
            "117    3.3382783895954  \n",
            "118    2.3833925805427  \n",
            "119    2.6866075609372  \n",
            "\n",
            "[120 rows x 4 columns]\n",
            "0       Plastic \n",
            "1       Ceramic \n",
            "2       Plastic \n",
            "3       Ceramic \n",
            "4       Plastic \n",
            "         ...    \n",
            "115     Plastic \n",
            "116     Plastic \n",
            "117     Plastic \n",
            "118     Plastic \n",
            "119     Plastic \n",
            "Name: class, Length: 120, dtype: object\n",
            "[[0.12493778 0.13190376 0.38616825 2.95176698]\n",
            " [0.14492137 0.12500747 0.75       3.43787552]\n",
            " [0.0718925  0.03       0.16317619 4.05215286]\n",
            " [0.08426061 0.03768188 0.23151166 6.28318531]\n",
            " [0.07       0.09034795 0.191777   2.12550385]\n",
            " [0.09979977 0.10269434 0.63616529 3.53585184]\n",
            " [0.05       0.03       0.1        4.30117693]\n",
            " [0.07237162 0.05452547 0.12805399 4.42275532]\n",
            " [0.07578485 0.03       0.1        1.40192574]\n",
            " [0.0594732  0.06629474 0.22178822 2.32709256]\n",
            " [0.12586423 0.12261042 0.75       1.31546253]\n",
            " [0.16139965 0.1262633  0.4311659  2.49095728]\n",
            " [0.07493345 0.0302617  0.1        3.73277249]\n",
            " [0.0812203  0.0302167  0.14396059 3.26946266]\n",
            " [0.11330191 0.10137279 0.48940241 2.87357705]\n",
            " [0.09134435 0.08960232 0.37297987 3.77208498]\n",
            " [0.07314564 0.05168703 0.21924605 5.00764193]\n",
            " [0.12364714 0.1164151  0.75       1.97255737]\n",
            " [0.0898855  0.07400762 0.24307804 2.24582934]\n",
            " [0.10227562 0.10557166 0.67537947 3.01415413]\n",
            " [0.06936374 0.0791434  0.21674273 2.12200209]\n",
            " [0.13010853 0.12601843 0.75       2.56870069]\n",
            " [0.05       0.06307656 0.2478925  3.46474849]\n",
            " [0.14952912 0.09892467 0.75       3.6288773 ]\n",
            " [0.1025805  0.10540734 0.47923086 2.91096231]\n",
            " [0.14518328 0.11715311 0.34228893 4.46824278]\n",
            " [0.08396591 0.07969227 0.25984946 2.26696458]\n",
            " [0.08035665 0.03       0.1        6.28318531]\n",
            " [0.08017927 0.08184058 0.29973525 2.98404488]\n",
            " [0.10826879 0.06994088 0.32638987 3.60655343]\n",
            " [0.08129425 0.09138428 0.30938053 4.61081571]\n",
            " [0.12075077 0.11000547 0.75       3.51670165]\n",
            " [0.06491779 0.05991568 0.21593254 1.82579512]\n",
            " [0.08128326 0.03       0.12703771 2.24635491]\n",
            " [0.10195248 0.08829705 0.217461   2.69833794]\n",
            " [0.11504644 0.10591014 0.29050668 4.57610987]\n",
            " [0.13381981 0.12066619 0.38856677 2.564196  ]\n",
            " [0.10674976 0.06824559 0.34355845 1.75312964]\n",
            " [0.08556087 0.07158985 0.45132785 2.72107018]\n",
            " [0.07045165 0.03450882 0.14145651 3.61199386]\n",
            " [0.10079602 0.09749422 0.46265619 2.57297626]\n",
            " [0.06747101 0.03       0.1        1.98571769]\n",
            " [0.07916651 0.09876531 0.20441477 3.89249908]\n",
            " [0.11179555 0.12650979 0.31964304 3.43463606]\n",
            " [0.10508731 0.09157227 0.43404365 3.71106878]\n",
            " [0.07733937 0.05505888 0.28801428 3.50463301]\n",
            " [0.08589881 0.07394701 0.37344381 4.82166382]\n",
            " [0.07679062 0.10119259 0.2042106  3.08946993]\n",
            " [0.10797016 0.0937178  0.28651165 0.16893057]\n",
            " [0.10978795 0.12122757 0.75       2.40058298]\n",
            " [0.11114249 0.15       0.70724073 3.0694753 ]\n",
            " [0.091777   0.09990739 0.34414377 1.52849601]\n",
            " [0.12956482 0.15       0.75       3.72376231]\n",
            " [0.10337629 0.12297695 0.75       2.35220512]\n",
            " [0.0780289  0.06653937 0.18796765 5.57209719]\n",
            " [0.10360203 0.09230568 0.61812368 4.54793302]\n",
            " [0.08488169 0.06420017 0.21892959 2.99134988]\n",
            " [0.09776877 0.08064101 0.35152749 2.51367909]\n",
            " [0.06779578 0.03408338 0.11136355 2.96598969]\n",
            " [0.09286609 0.08284553 0.1        3.16194374]\n",
            " [0.12976162 0.09309229 0.74614328 2.94496328]\n",
            " [0.12659231 0.10266106 0.75       3.27509719]\n",
            " [0.13603661 0.10317672 0.53923804 3.0990306 ]\n",
            " [0.09398908 0.08895565 0.53896281 3.86875382]\n",
            " [0.09577533 0.11523424 0.23494288 2.70614809]\n",
            " [0.10929882 0.07561268 0.5222274  2.57814141]\n",
            " [0.11161035 0.1286184  0.32353746 2.91906091]\n",
            " [0.09839    0.10685801 0.66232602 1.70578107]\n",
            " [0.11668748 0.12432559 0.75       2.67375209]\n",
            " [0.13801042 0.15       0.49372621 4.12295635]\n",
            " [0.06110344 0.06232156 0.23299755 3.94758528]\n",
            " [0.07799401 0.0736077  0.23851185 1.46633899]\n",
            " [0.10551888 0.0534787  0.36870044 2.62218334]\n",
            " [0.13174595 0.15       0.39879555 2.4015196 ]\n",
            " [0.07862678 0.15       0.25755727 2.55657712]\n",
            " [0.09798928 0.04534754 0.33715131 4.18819908]\n",
            " [0.12729586 0.1221118  0.29020249 2.60704099]\n",
            " [0.12758411 0.12002163 0.35315838 1.33730728]\n",
            " [0.11805557 0.13946058 0.75       3.48887777]\n",
            " [0.07733171 0.07101783 0.3679566  2.64831172]\n",
            " [0.11970118 0.15       0.31597037 3.80801935]\n",
            " [0.10684588 0.08407749 0.37511556 4.51630891]\n",
            " [0.09569731 0.12665993 0.27442973 1.97098276]\n",
            " [0.11529655 0.12989744 0.31399826 3.71376436]\n",
            " [0.07728091 0.06116971 0.30220252 3.76715431]\n",
            " [0.10364337 0.09274129 0.58883201 1.67784175]\n",
            " [0.08138455 0.09425048 0.16449189 3.65540077]\n",
            " [0.11654647 0.07976652 0.24164274 3.46731586]\n",
            " [0.12306786 0.12413721 0.38295762 2.36539595]\n",
            " [0.09833823 0.10888897 0.45214926 3.41428191]\n",
            " [0.06561265 0.06562931 0.18084153 2.10574246]\n",
            " [0.07024918 0.09203246 0.40484228 4.31327925]\n",
            " [0.10960051 0.09648581 0.66396496 3.16559008]\n",
            " [0.14092045 0.10383023 0.31571982 2.92696799]\n",
            " [0.10198375 0.08748279 0.23083323 1.84931825]\n",
            " [0.05       0.06359473 0.13143726 3.60124376]\n",
            " [0.14203794 0.11033482 0.75       2.92449664]\n",
            " [0.05984198 0.11963741 0.43597687 2.39016255]\n",
            " [0.11622428 0.08926468 0.64108492 4.39713306]\n",
            " [0.10430398 0.09764931 0.40579556 3.48992666]\n",
            " [0.08587257 0.06007171 0.23795235 4.423805  ]\n",
            " [0.14040089 0.12124752 0.37599122 5.51019889]\n",
            " [0.10083909 0.05544123 0.20709855 1.63391995]\n",
            " [0.07220741 0.08492645 0.18521059 3.28045097]\n",
            " [0.11353045 0.09521562 0.6470747  3.61262483]\n",
            " [0.10566088 0.11856672 0.75       2.22178072]\n",
            " [0.10699746 0.06467702 0.45854495 3.13992611]\n",
            " [0.07       0.053335   0.10290682 4.53870657]\n",
            " [0.08107826 0.09304042 0.47344876 2.75354865]\n",
            " [0.10793206 0.10342021 0.73437966 4.59810304]\n",
            " [0.12385463 0.14144957 0.75       4.17246861]\n",
            " [0.06788528 0.06327412 0.30492325 4.18047873]\n",
            " [0.10801263 0.11322699 0.75       2.2193355 ]\n",
            " [0.10547899 0.06853507 0.18052128 3.99689836]\n",
            " [0.10524248 0.08172626 0.22822962 3.65580287]\n",
            " [0.15324809 0.13016383 0.40118457 2.17923916]\n",
            " [0.12021523 0.11607358 0.33882777 0.8768663 ]\n",
            " [0.07556917 0.07206795 0.1616056  3.33827839]\n",
            " [0.13137129 0.09178891 0.27814125 2.38339258]\n",
            " [0.12825405 0.14820139 0.45533537 2.68660756]]\n",
            "<class 'numpy.ndarray'>\n"
          ]
        }
      ]
    },
    {
      "cell_type": "markdown",
      "source": [
        "3a) implementing the sofmax regression"
      ],
      "metadata": {
        "id": "1mgizsFMDm_X"
      }
    },
    {
      "cell_type": "code",
      "source": [
        "# doing one hot coding\n",
        "# representing the y values in the form of a matrix and c represent the number classes\n",
        "# the matrix is of size  len(y) and no. of classes\n",
        "def one_hot(y, c):\n",
        "    y_hot=(np.arange(np.max(y) + 1) == y[:, None]).astype(float)\n",
        "    return y_hot"
      ],
      "metadata": {
        "id": "1bCbypWrPzuJ"
      },
      "execution_count": 215,
      "outputs": []
    },
    {
      "cell_type": "code",
      "source": [
        "# Just giving numbers to the class so that it is easy to predict\n",
        "for i in range(len(y_train)):\n",
        "    if y_train[i] == ' Plastic ':\n",
        "        y_train[i] = 0\n",
        "    elif y_train[i] == ' Metal ':\n",
        "        y_train[i] = 1\n",
        "    elif y_train[i] == ' Ceramic ':\n",
        "        y_train[i] = 2"
      ],
      "metadata": {
        "id": "np-r0dxqSrjh"
      },
      "execution_count": 216,
      "outputs": []
    },
    {
      "cell_type": "code",
      "source": [
        "print(y_train)"
      ],
      "metadata": {
        "colab": {
          "base_uri": "https://localhost:8080/"
        },
        "id": "lqtaX5KESv6I",
        "outputId": "766921b3-85b1-4f34-d73f-25fc897a6cb1"
      },
      "execution_count": 217,
      "outputs": [
        {
          "output_type": "stream",
          "name": "stdout",
          "text": [
            "0      0\n",
            "1      2\n",
            "2      0\n",
            "3      2\n",
            "4      0\n",
            "      ..\n",
            "115    0\n",
            "116    0\n",
            "117    0\n",
            "118    0\n",
            "119    0\n",
            "Name: class, Length: 120, dtype: object\n"
          ]
        }
      ]
    },
    {
      "cell_type": "code",
      "source": [
        "# implementing the softmax regression probability function\n",
        "def softmax(a):\n",
        "    Pro_exp = np.exp(a - np.max(a))\n",
        "    for i in range(len(a)):\n",
        "        Pro_exp[i] /= np.sum(Pro_exp[i])\n",
        "    return Pro_exp"
      ],
      "metadata": {
        "id": "k1FoHk5UP5cb"
      },
      "execution_count": 218,
      "outputs": []
    },
    {
      "cell_type": "code",
      "source": [
        "# using xtraining data to train the algorithm\n",
        "# fitting the function by using random values for weight and passing 1 as bias and updating the graident\n",
        "def fit(X, y, lr, c, epochs):\n",
        "    m, n = X.shape\n",
        "    # Initializing weights randomly.\n",
        "    w = np.random.uniform(low=-0.1, high=0.1, size=(n,c))\n",
        "    b = np.array([1, 1, 1])\n",
        "    for epoch in range(epochs):\n",
        "        y_hot = one_hot(y, c)\n",
        "        z_val = np.dot(X,w)+ b\n",
        "        y_pred = softmax(z_val)\n",
        "        w_gradient = (1/m)*np.dot(X.T, (y_pred - y_hot)) \n",
        "        w = w - lr*w_gradient\n",
        "    return w, b"
      ],
      "metadata": {
        "id": "p7d5BBIuP_Rd"
      },
      "execution_count": 219,
      "outputs": []
    },
    {
      "cell_type": "markdown",
      "source": [
        "Passing training dataset to train the algorithm"
      ],
      "metadata": {
        "id": "gGJDS739Evrf"
      }
    },
    {
      "cell_type": "code",
      "source": [
        "w, b = fit(x_train, y_train, lr=0.85, c=3, epochs=60000)"
      ],
      "metadata": {
        "id": "bxL-gNE8QMrb"
      },
      "execution_count": 220,
      "outputs": []
    },
    {
      "cell_type": "code",
      "source": [
        "# predicting the output with the computed weight and bias\n",
        "# getting the class which has maximum probability\n",
        "def predict(X, w, b):\n",
        "    z_val = X@w + b\n",
        "    y_predictions = softmax(z_val)\n",
        "    return np.argmax(y_predictions, axis=1)"
      ],
      "metadata": {
        "id": "NfvogNKuX9Fw"
      },
      "execution_count": 221,
      "outputs": []
    },
    {
      "cell_type": "code",
      "source": [
        "def accuracy(y, y_prds):\n",
        "    return np.sum(y==y_prds)/len(y)"
      ],
      "metadata": {
        "id": "I1Gi-GnNWFGQ"
      },
      "execution_count": 222,
      "outputs": []
    },
    {
      "cell_type": "code",
      "source": [
        "train_preds = predict(x_train, w, b)\n",
        "print(f'Accuracy : {accuracy(y_train, train_preds)}')\n",
        "x_test = test.values\n",
        "x_test = x_test.astype('float64')\n",
        "test_preds = predict(x_test, w, b)\n",
        "print(train_preds)\n",
        "print(test_preds)\n",
        "print(y_train.values)"
      ],
      "metadata": {
        "colab": {
          "base_uri": "https://localhost:8080/"
        },
        "id": "zZG4yKXiPhbS",
        "outputId": "3a34ecec-26cf-4559-c59a-4830e864bf98"
      },
      "execution_count": 229,
      "outputs": [
        {
          "output_type": "stream",
          "name": "stdout",
          "text": [
            "Accuracy : 0.8666666666666667\n",
            "[0 2 2 2 0 2 2 0 0 1 2 0 0 0 1 1 2 2 0 2 0 2 2 2 1 0 0 0 1 1 1 2 1 0 0 0 0\n",
            " 1 2 0 1 0 0 0 1 2 2 0 0 2 2 1 2 2 0 2 0 1 0 0 2 2 1 2 0 2 0 2 2 1 2 0 2 0\n",
            " 0 2 0 0 2 2 0 1 0 0 2 2 0 0 0 1 0 2 2 0 0 0 2 1 2 1 1 0 0 0 2 2 2 0 2 2 2\n",
            " 2 2 0 0 0 0 0 0 0]\n",
            "[2 2 0 0]\n",
            "[0 2 0 2 0 2 2 1 0 1 2 0 0 0 1 1 2 2 0 2 1 2 2 2 1 0 1 0 1 1 1 2 1 1 0 0 0\n",
            " 1 2 2 1 1 0 0 1 2 2 0 0 2 1 1 2 2 0 2 1 1 1 0 2 2 1 2 0 2 0 2 2 0 1 1 2 0\n",
            " 0 2 0 0 2 2 0 1 0 0 2 2 0 0 0 1 1 2 2 0 0 1 2 2 2 1 1 0 0 0 2 2 2 0 2 2 2\n",
            " 2 2 0 0 0 0 0 0 0]\n"
          ]
        }
      ]
    },
    {
      "cell_type": "markdown",
      "source": [
        "3b) Implementing the leave one out validation to compare the results with the KNN algorithm"
      ],
      "metadata": {
        "id": "znanniEHE3Ws"
      }
    },
    {
      "cell_type": "code",
      "source": [
        "def main():\n",
        "  predictions = 0\n",
        "  for i, testsample in data.iterrows():\n",
        "    sample = testsample.values[:4]\n",
        "    endresult = testsample.values[4]\n",
        "    dataa = data.drop(i)\n",
        "    dataax= dataa.iloc[:,0:4]\n",
        "    dataay= dataa.iloc[:,4]\n",
        "    dataax=dataax.astype('float64')\n",
        "    dataax= dataax.values\n",
        "    dataay=dataay.astype('float64')\n",
        "    sample=sample.astype('float64')\n",
        "    dataay= dataay.values\n",
        "    w, b = fit(dataax, dataay, lr=0.85, c=3, epochs=1000)\n",
        "    z_val = sample@w + b\n",
        "    y_preds = softmax(z_val)\n",
        "    #print(y_preds.shape)\n",
        "    predictvalue= np.argmax(y_preds)\n",
        "    if predictvalue == endresult:\n",
        "      predictions += 1\n",
        "  print(f\"{predictions}/{data.shape[0]} correct predictions using all features\")\n",
        "  print(f'performance is : ', (predictions/data.shape[0]) * 100)\n",
        "  print()"
      ],
      "metadata": {
        "id": "Ty8XjwDcUBsf"
      },
      "execution_count": 224,
      "outputs": []
    },
    {
      "cell_type": "code",
      "source": [
        "main()"
      ],
      "metadata": {
        "colab": {
          "base_uri": "https://localhost:8080/"
        },
        "id": "eep0nolne9iU",
        "outputId": "f40ab163-17d1-4485-c07b-acaa19274d7c"
      },
      "execution_count": 225,
      "outputs": [
        {
          "output_type": "stream",
          "name": "stdout",
          "text": [
            "45/120 correct predictions using all features\n",
            "performance is :  37.5\n",
            "\n"
          ]
        }
      ]
    },
    {
      "cell_type": "markdown",
      "source": [
        "After seeing the results of softmax regression and KNN from assignment 1, \n",
        "KNN gives better result compared to softmax \n",
        "because \n",
        "KNN is a non-parametric, lazy learning algorithm that does not make any assumptions about the underlying data distribution while Softmax Regression is a parametric, eager learning algorithm that assumes that the data follows a certain distribution and tries to learn a model that can generalize to new data.\n",
        "\n",
        "KNN is based on the assumption that points that are close to each other in the feature space are likely to have the same label. However, it can suffer from the curse of dimensionality, making it suitable only for low-dimensional datasets with a small number of samples as it can be very slow otherwise. In contrast, softmax regression fits complicated hyperplane to separate more than two probability distributions from the exponential family, making it well-suited for high-dimensional datasets with a large number of training points. However, if the data is not linearly separable, the algorithm may not work effectively.\n",
        "\n",
        "Softmax regression generalizes logistic regression and its Harder to train"
      ],
      "metadata": {
        "id": "LrlfQcPWZZyC"
      }
    }
  ]
}