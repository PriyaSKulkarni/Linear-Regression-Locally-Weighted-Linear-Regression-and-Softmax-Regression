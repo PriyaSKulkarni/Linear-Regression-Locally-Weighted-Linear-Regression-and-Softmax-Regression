{
  "nbformat": 4,
  "nbformat_minor": 0,
  "metadata": {
    "colab": {
      "provenance": []
    },
    "kernelspec": {
      "name": "python3",
      "display_name": "Python 3"
    },
    "language_info": {
      "name": "python"
    }
  },
  "cells": [
    {
      "cell_type": "code",
      "execution_count": 1,
      "metadata": {
        "id": "pe3n0V-V3fC7"
      },
      "outputs": [],
      "source": [
        "#importing required libraries\n",
        "import numpy as np\n",
        "import pandas as pd\n",
        "import matplotlib.pyplot as plt\n",
        "import seaborn as sns\n",
        "import operator\n",
        "from sklearn import preprocessing as preprocess\n",
        "sns.set()"
      ]
    },
    {
      "cell_type": "code",
      "source": [
        "# I have used my google drive to load the training and testing data\n",
        "# Upload the dataset file in your google drive and change the path to run the below line\n",
        "from google.colab import drive\n",
        "drive.mount('/content/drive')\n",
        "train_data= pd.read_csv('/content/drive/MyDrive/ML/proj1btrainingdatacsv.csv',dtype='object')\n",
        "print(train_data)\n",
        "test_data = pd.read_csv('/content/drive/MyDrive/ML/testdatapro.csv',dtype='object')\n",
        "print(test_data)"
      ],
      "metadata": {
        "colab": {
          "base_uri": "https://localhost:8080/"
        },
        "id": "56glemp53mO0",
        "outputId": "107ece21-5ef0-40eb-814a-2c5d60f760c7"
      },
      "execution_count": 2,
      "outputs": [
        {
          "output_type": "stream",
          "name": "stdout",
          "text": [
            "Mounted at /content/drive\n",
            "             x                    y\n",
            "0     -1.8595     -2.9157602212752 \n",
            "1     -0.4045      1.5789283980163 \n",
            "2      2.4085      11.132203673407 \n",
            "3      -1.764     -2.4681520321457 \n",
            "4       0.274      3.9107990113579 \n",
            "..         ...                  ...\n",
            "120    0.3105      4.2639106552876 \n",
            "121    1.4255      8.1198814216973 \n",
            "122   -1.0735    -0.54575209222805 \n",
            "123     1.385      8.0268599849653 \n",
            "124    0.5895      4.5934941677497 \n",
            "\n",
            "[125 rows x 2 columns]\n",
            "           x                    y\n",
            "0    1.0325       6.433549694318 \n",
            "1     1.834      9.2062880907779 \n",
            "2     0.234      3.9342062536621 \n",
            "3    2.3835      11.071626087497 \n",
            "4      2.13      10.541827976763 \n",
            "5    -1.032    0.073624941709515 \n",
            "6   -1.1745    -0.80295434834512 \n",
            "7   -2.9385      -6.414904719213 \n",
            "8     2.008      9.3439320861606 \n",
            "9     0.828      5.8368037411017 \n"
          ]
        }
      ]
    },
    {
      "cell_type": "code",
      "source": [
        "x_train = train_data.iloc[:,0]\n",
        "y_train = train_data.iloc[:,1]\n",
        "\n",
        "y_train=y_train.astype('float64')\n",
        "x_train=x_train.astype('float64')\n",
        "\n",
        "x_test = test_data.iloc[:,0]\n",
        "y_test = test_data.iloc[:,1]\n",
        "\n",
        "y_test=y_test.astype('float64')\n",
        "x_test=x_test.astype('float64')"
      ],
      "metadata": {
        "id": "FuZ4dEEm30wv"
      },
      "execution_count": 3,
      "outputs": []
    },
    {
      "cell_type": "code",
      "source": [
        "y_train = y_train.values\n",
        "x_test = x_test.values\n",
        "y_test = y_test.values"
      ],
      "metadata": {
        "id": "3DT0j2bs33Qp"
      },
      "execution_count": 4,
      "outputs": []
    },
    {
      "cell_type": "markdown",
      "source": [
        "2a. Implementing the locally weighted Linear Regression"
      ],
      "metadata": {
        "id": "XnmtbwbhlfeW"
      }
    },
    {
      "cell_type": "code",
      "source": [
        "x = np.zeros((len(x_train), 2))\n",
        "x[:, 0] = 1\n",
        "x[:, 1] = x_train\n",
        "r = 0.25"
      ],
      "metadata": {
        "id": "OOUbeK2L4GXn"
      },
      "execution_count": 5,
      "outputs": []
    },
    {
      "cell_type": "code",
      "source": [
        "# Implementing the function to calculate the weights value\n",
        "# the formula given in the question\n",
        "def Calculate_weights(point_x, all_x, r):\n",
        "    m = all_x.shape[0]\n",
        "    #print(m)\n",
        "    weights = np.mat(np.eye((m)))\n",
        "    for i in range(m):\n",
        "        difference = point_x - all_x[i]\n",
        "        weights[i,i] = np.exp(difference*difference.T/(-2.0*r**2))\n",
        "    return weights"
      ],
      "metadata": {
        "id": "yObQEZPV4GdS"
      },
      "execution_count": 6,
      "outputs": []
    },
    {
      "cell_type": "code",
      "source": [
        "# Calculating the theta value \n",
        "# formula used is theta =( x transpose * weights * x ) inverse * (x transpose * weights * output_training data )\n",
        "def Calculate_theta(w, x, x_train_d, y_train_d):\n",
        "    v1 = np.dot(x.T, w)\n",
        "    v2 = np.dot(v1, x)\n",
        "    v3 = np.linalg.inv(v2)\n",
        "    v4 = np.dot(v1, y_train_d)\n",
        "    theta = np.dot(v4,v3)\n",
        "    return theta"
      ],
      "metadata": {
        "id": "oqv5ImtQ4Ghh"
      },
      "execution_count": 7,
      "outputs": []
    },
    {
      "cell_type": "code",
      "source": [
        "# to predict we are using the h(x) = theta * x\n",
        "def locally_weighted_linear_regression(x, x_train_data, y_train_data, r):\n",
        "    y_pred = np.zeros(len(x))\n",
        "    for i in range(len(x)):\n",
        "        w_value = Calculate_weights(x_train_data[i], x_train_data, r)\n",
        "        theta_value = Calculate_theta(w_value, x, x_train_data, y_train_data)\n",
        "        y_pred[i] = np.dot(theta_value, x[i])\n",
        "    return y_pred, w_value, theta_value"
      ],
      "metadata": {
        "id": "TE-3HOUi4OB-"
      },
      "execution_count": 8,
      "outputs": []
    },
    {
      "cell_type": "code",
      "source": [
        "# error value is defined as sum of all(y_pred - y_train) * weights\n",
        "def error(y_train_value, y_pred_value, weight):\n",
        "    error = (np.sum(((y_pred_value - y_train_value)**2) * weight))/2\n",
        "    return error"
      ],
      "metadata": {
        "id": "bsD_5m44psFh"
      },
      "execution_count": 9,
      "outputs": []
    },
    {
      "cell_type": "markdown",
      "source": [
        "2b. Applying the locally weighted linear regression for the given training data and plotting the graph"
      ],
      "metadata": {
        "id": "Ew6I8CcurizC"
      }
    },
    {
      "cell_type": "code",
      "source": [
        "y_prediction, w_value, thet= locally_weighted_linear_regression(x, x_train, y_train, r)\n",
        "print(y_prediction)\n",
        "error= error(y_train,y_prediction, w_value )\n",
        "print (error)"
      ],
      "metadata": {
        "id": "660aX47Z4WM7",
        "colab": {
          "base_uri": "https://localhost:8080/"
        },
        "outputId": "b35e1a2e-f6ea-4c6c-efd0-161a7cb8933b"
      },
      "execution_count": 10,
      "outputs": [
        {
          "output_type": "stream",
          "name": "stdout",
          "text": [
            "[-2.7665977   1.81045378 11.04849009 -2.43300934  4.13194477  8.29674693\n",
            "  1.71502173  9.51208759  5.04856034  4.97988499 10.81407908  8.05200009\n",
            " -2.53131916  4.58977622 -2.71361037  0.4285654  -0.84773913  8.64393201\n",
            " 12.29644753 -3.00501867  4.58836078  8.17753257  3.26250561  5.93866455\n",
            " -5.84045102  3.70256698  4.80142047  9.2058171  -2.42787578  2.84637012\n",
            "  6.09538455  3.51085377 10.8621877  -6.28405676  0.7005796   9.72014313\n",
            " -5.05215966 11.54088215  7.07780396 -5.6542591  -0.47397978  9.34931306\n",
            "  9.64696597  0.12485387  4.35612761 11.77440288 -1.15418459  1.81205726\n",
            "  9.14338988  1.56057915 10.52884313  4.99269217  8.50210728 -5.1845436\n",
            "  3.57540121 -1.88218058 -0.94137035 10.97675652  9.00612516 -3.22238683\n",
            " -2.7030257   5.61058681  9.73728658 -2.38866395  0.4079769  11.80387221\n",
            "  0.49314827  3.18632585 -3.14194555  8.26177802 11.25064342 -2.25271964\n",
            "  6.56389704  0.32191035  7.08161307 -5.94124548  2.73243577  1.3773315\n",
            " 10.22721022 -1.33289306  6.36125662  1.11756026  5.00981597  2.50619011\n",
            " -4.43755876 -0.16286356  4.46258962  4.38843437 11.87914751 -2.92745243\n",
            "  2.30886353  9.14482501  8.03354627  8.94899334  9.37896588 10.98754468\n",
            " 12.32726896  6.3866129   3.22537735 -4.7627622   5.22210446 11.80644344\n",
            " -2.87622496  7.33764115  5.37842292  3.27132325  1.54978384  5.36127639\n",
            " 11.15072459  0.43330908  7.06257364 -2.28763662  5.09199624  3.24307615\n",
            " 11.87783547 -5.32055344  2.4052008   8.23093269  8.7531211   9.55324525\n",
            "  4.2429703   7.97570581 -0.27236974  7.8333345   5.03992332]\n",
            "0.7592480542544934\n"
          ]
        }
      ]
    },
    {
      "cell_type": "code",
      "source": [
        "thet"
      ],
      "metadata": {
        "colab": {
          "base_uri": "https://localhost:8080/"
        },
        "id": "QjhoI5XP_CUk",
        "outputId": "33be335d-a998-4074-b3e5-b4f6616f7f03"
      },
      "execution_count": 11,
      "outputs": [
        {
          "output_type": "execute_result",
          "data": {
            "text/plain": [
              "matrix([[3.36120283, 2.84770227]])"
            ]
          },
          "metadata": {},
          "execution_count": 11
        }
      ]
    },
    {
      "cell_type": "code",
      "source": [
        "plt.scatter(x_train, y_train, color='g')\n",
        "axis = operator.itemgetter(0)\n",
        "axis_zip = sorted(zip(x_train,y_prediction), key=axis)\n",
        "x_train, y_pred1 = zip(*axis_zip)\n",
        "plt.plot(x_train, y_pred1, color='r')\n",
        "plt.xlabel('x_value')\n",
        "plt.ylabel('y_value')\n",
        "plt.title(f' Prediction error of {error}')\n",
        "plt.show()"
      ],
      "metadata": {
        "colab": {
          "base_uri": "https://localhost:8080/",
          "height": 301
        },
        "id": "dJENO9Qt4bnv",
        "outputId": "614c93b2-0fab-4c33-90ad-9c7ba99606dc"
      },
      "execution_count": 12,
      "outputs": [
        {
          "output_type": "display_data",
          "data": {
            "text/plain": [
              "<Figure size 432x288 with 1 Axes>"
            ],
            "image/png": "[encoded data removed]"
          },
          "metadata": {}
        }
      ]
    },
    {
      "cell_type": "markdown",
      "source": [
        "2c. Applying the test data to the locally weighted linear regression and comparing with 1c."
      ],
      "metadata": {
        "id": "pJOFRPdGsNaL"
      }
    },
    {
      "cell_type": "code",
      "source": [
        "# I have used my google drive to load the training and testing data\n",
        "# Upload the dataset file in your google drive and change the path to run the below line\n",
        "test_data = pd.read_csv('/content/drive/MyDrive/ML/testdatapro.csv',dtype='object')\n",
        "print(test_data)\n",
        "\n",
        "x_test = test_data.iloc[:,0]\n",
        "y_test = test_data.iloc[:,1]\n",
        "\n",
        "y_test=y_test.astype('float64')\n",
        "x_test=x_test.astype('float64')\n",
        "\n",
        "x_test = x_test.values\n",
        "y_test = y_test.values"
      ],
      "metadata": {
        "id": "dUBd0HrE-J9S",
        "colab": {
          "base_uri": "https://localhost:8080/"
        },
        "outputId": "7379c63e-547b-4de1-9671-dfbe26874fd4"
      },
      "execution_count": 13,
      "outputs": [
        {
          "output_type": "stream",
          "name": "stdout",
          "text": [
            "           x                    y\n",
            "0    1.0325       6.433549694318 \n",
            "1     1.834      9.2062880907779 \n",
            "2     0.234      3.9342062536621 \n",
            "3    2.3835      11.071626087497 \n",
            "4      2.13      10.541827976763 \n",
            "5    -1.032    0.073624941709515 \n",
            "6   -1.1745    -0.80295434834512 \n",
            "7   -2.9385      -6.414904719213 \n",
            "8     2.008      9.3439320861606 \n",
            "9     0.828      5.8368037411017 \n"
          ]
        }
      ]
    },
    {
      "cell_type": "code",
      "source": [
        "new_x = np.zeros((len(test_data), 2))\n",
        "new_x[:, 0] = 1\n",
        "new_x[:, 1] = x_test"
      ],
      "metadata": {
        "id": "bY1FK-Z7tg03"
      },
      "execution_count": 14,
      "outputs": []
    },
    {
      "cell_type": "code",
      "source": [
        "thet.shape"
      ],
      "metadata": {
        "colab": {
          "base_uri": "https://localhost:8080/"
        },
        "id": "uwdjRPVT-Y3w",
        "outputId": "d61afcb8-3924-4190-c1e7-fd3ac9f734ce"
      },
      "execution_count": 15,
      "outputs": [
        {
          "output_type": "execute_result",
          "data": {
            "text/plain": [
              "(1, 2)"
            ]
          },
          "metadata": {},
          "execution_count": 15
        }
      ]
    },
    {
      "cell_type": "code",
      "source": [
        "def Calculate_weights_test(point_x, all_x, r, trainy,y_,m):\n",
        "    last_error =0\n",
        "    for i in range(m):\n",
        "        difference = ( all_x[i] - point_x )\n",
        "        weights = np.exp(difference*difference/(-2.0*r**2))\n",
        "        diff1 =( y_ - trainy[i])\n",
        "        weigh = diff1 * weights\n",
        "        last_error += weigh\n",
        "    return last_error"
      ],
      "metadata": {
        "id": "WRe76kFdj3Ex"
      },
      "execution_count": 16,
      "outputs": []
    },
    {
      "cell_type": "code",
      "source": [
        "def locally_weighted_linear_regression_test(theta, x_, testx,trainx,trainy):\n",
        "  last_error =0\n",
        "  y_pred = np.zeros(len(testx))\n",
        "  for i in range(len(testx)):\n",
        "    y_pred[i] = np.dot(theta, x_[i])\n",
        "    mean= np.mean(trainx)\n",
        "    difference = (mean - testx[i] )\n",
        "    weights = np.exp(difference*difference/(-2.0*r**2))\n",
        "    diff1 =( y_pred[i] - trainy[i])\n",
        "    weigh = diff1 * weights\n",
        "    last_error += weigh\n",
        "  return y_pred, last_error"
      ],
      "metadata": {
        "id": "Om4z1KvFjdCD"
      },
      "execution_count": 17,
      "outputs": []
    },
    {
      "cell_type": "code",
      "source": [
        "y_prediction_test,error = locally_weighted_linear_regression_test(thet, new_x, x_test,x_train,y_test)\n",
        "print(error)\n",
        "print(y_prediction_test)\n",
        "print(y_test)"
      ],
      "metadata": {
        "colab": {
          "base_uri": "https://localhost:8080/"
        },
        "id": "mu3fGsip-DoP",
        "outputId": "d6ff362d-e3db-4ab5-a37d-e029cb7ca779"
      },
      "execution_count": 18,
      "outputs": [
        {
          "output_type": "stream",
          "name": "stdout",
          "text": [
            "0.08356348493528484\n",
            "[ 6.30145542  8.58388879  4.02756516 10.14870119  9.42680866  0.42237409\n",
            "  0.01657651 -5.00677029  9.07938899  5.71910031]\n",
            "[ 6.43354969  9.20628809  3.93420625 11.07162609 10.54182798  0.07362494\n",
            " -0.80295435 -6.41490472  9.34393209  5.83680374]\n"
          ]
        }
      ]
    },
    {
      "cell_type": "code",
      "source": [
        "plt.scatter(x_test, y_test, color='g')\n",
        "axis = operator.itemgetter(0)\n",
        "axis_zip = sorted(zip(x_test,y_prediction_test), key=axis)\n",
        "x_test, y_pred2 = zip(*axis_zip)\n",
        "plt.plot(x_test, y_pred2, color='r')\n",
        "plt.xlabel('x_value')\n",
        "plt.ylabel('y_value')\n",
        "plt.title(f' Prediction error of {error}')\n",
        "plt.show()"
      ],
      "metadata": {
        "id": "iNDa7tvQ-KVb",
        "colab": {
          "base_uri": "https://localhost:8080/",
          "height": 301
        },
        "outputId": "7c84923d-296e-49e5-ccd9-c4702373cb57"
      },
      "execution_count": 19,
      "outputs": [
        {
          "output_type": "display_data",
          "data": {
            "text/plain": [
              "<Figure size 432x288 with 1 Axes>"
            ],
            "image/png": "[encoded data removed]"
          },
          "metadata": {}
        }
      ]
    },
    {
      "cell_type": "markdown",
      "source": [
        "Comparing the linear regression with locally weighted linear regression, The linear regression has less error compared to locally weighted linear regression. \n",
        "\n",
        "Hence the performance of linear regression is much better than the locally weighted linear regression"
      ],
      "metadata": {
        "id": "Ja0JyAOuuTRZ"
      }
    },
    {
      "cell_type": "markdown",
      "source": [
        "2d. Using only the first 20 elements of the training dataset to evaluate the performance"
      ],
      "metadata": {
        "id": "ADlhCze8w-uL"
      }
    },
    {
      "cell_type": "code",
      "source": [
        "# I have used my google drive to load the training and testing data\n",
        "# Upload the dataset file in your google drive and change the path to run the below line\n",
        "train_data1= pd.read_csv('/content/drive/MyDrive/ML/proj1btrainingdatacsv.csv',dtype='object')\n",
        "x_train_value = train_data1.iloc[:,0]\n",
        "y_train_value = train_data1.iloc[:,1]\n",
        "y_train_value = y_train_value.astype('float64')\n",
        "x_train_value = x_train_value.astype('float64')\n",
        "x_train_few = x_train_value.values[0:20]\n",
        "y_train_few = y_train_value.values[0:20]\n",
        "print(y_train_few.shape)"
      ],
      "metadata": {
        "colab": {
          "base_uri": "https://localhost:8080/"
        },
        "id": "eKbxM-Dr_ZPT",
        "outputId": "65a133da-4db0-4ce7-b984-39fd091f4b0c"
      },
      "execution_count": 20,
      "outputs": [
        {
          "output_type": "stream",
          "name": "stdout",
          "text": [
            "(20,)\n"
          ]
        }
      ]
    },
    {
      "cell_type": "code",
      "source": [
        "x1 = np.zeros((len(x_train_few), 2))\n",
        "x1[:, 0] = 1\n",
        "x1[:, 1] = x_train_few\n",
        "print(x1.shape)"
      ],
      "metadata": {
        "colab": {
          "base_uri": "https://localhost:8080/"
        },
        "id": "ESlx8u5kygCV",
        "outputId": "fc90bba7-cba6-4900-9b7c-d68555fdf54d"
      },
      "execution_count": 21,
      "outputs": [
        {
          "output_type": "stream",
          "name": "stdout",
          "text": [
            "(20, 2)\n"
          ]
        }
      ]
    },
    {
      "cell_type": "code",
      "source": [
        "y_prediction_few, w_value_few , theta_few= locally_weighted_linear_regression(x1, x_train_few, y_train_few, r)\n",
        "error_few = (np.sum(((y_prediction_few- y_train_few)**2) * w_value_few))/2\n",
        "print (error_few)"
      ],
      "metadata": {
        "colab": {
          "base_uri": "https://localhost:8080/"
        },
        "id": "zeSSmq2HADc-",
        "outputId": "4df60bce-7e44-4d61-cf11-43d8af0fe4b1"
      },
      "execution_count": 22,
      "outputs": [
        {
          "output_type": "stream",
          "name": "stdout",
          "text": [
            "0.005779828337252765\n"
          ]
        }
      ]
    },
    {
      "cell_type": "code",
      "source": [
        "plt.scatter(x_train_few, y_train_few, color='g')\n",
        "axis = operator.itemgetter(0)\n",
        "axis_zip = sorted(zip(x_train_few,y_prediction_few), key=axis)\n",
        "x_train_few, y_prediction_few = zip(*axis_zip)\n",
        "plt.plot(x_train_few, y_prediction_few, color='r')\n",
        "plt.xlabel('x_value')\n",
        "plt.ylabel('y_value')\n",
        "plt.title(f' Prediction error of {error_few}')\n",
        "plt.show()"
      ],
      "metadata": {
        "colab": {
          "base_uri": "https://localhost:8080/",
          "height": 301
        },
        "id": "ftz4J5Z3AHVR",
        "outputId": "b885a2c2-fce9-49e0-c89b-104798dc0599"
      },
      "execution_count": 23,
      "outputs": [
        {
          "output_type": "display_data",
          "data": {
            "text/plain": [
              "<Figure size 432x288 with 1 Axes>"
            ],
            "image/png": "[encoded data removed]"
          },
          "metadata": {}
        }
      ]
    },
    {
      "cell_type": "code",
      "source": [
        "test_data = pd.read_csv('/content/drive/MyDrive/ML/testdatapro.csv',dtype='object')\n",
        "print(test_data)\n",
        "\n",
        "x_test = test_data.iloc[:,0]\n",
        "y_test = test_data.iloc[:,1]\n",
        "\n",
        "y_test=y_test.astype('float64')\n",
        "x_test=x_test.astype('float64')\n",
        "\n",
        "x_test = x_test.values\n",
        "y_test = y_test.values"
      ],
      "metadata": {
        "colab": {
          "base_uri": "https://localhost:8080/"
        },
        "id": "KBZfx28XHITm",
        "outputId": "bf9e7475-267a-4646-834e-0bf84485ba1d"
      },
      "execution_count": 24,
      "outputs": [
        {
          "output_type": "stream",
          "name": "stdout",
          "text": [
            "           x                    y\n",
            "0    1.0325       6.433549694318 \n",
            "1     1.834      9.2062880907779 \n",
            "2     0.234      3.9342062536621 \n",
            "3    2.3835      11.071626087497 \n",
            "4      2.13      10.541827976763 \n",
            "5    -1.032    0.073624941709515 \n",
            "6   -1.1745    -0.80295434834512 \n",
            "7   -2.9385      -6.414904719213 \n",
            "8     2.008      9.3439320861606 \n",
            "9     0.828      5.8368037411017 \n"
          ]
        }
      ]
    },
    {
      "cell_type": "code",
      "source": [
        "new_x = np.zeros((len(test_data), 2))\n",
        "new_x[:, 0] = 1\n",
        "new_x[:, 1] = x_test"
      ],
      "metadata": {
        "id": "HO9hkgy7HQbq"
      },
      "execution_count": 25,
      "outputs": []
    },
    {
      "cell_type": "code",
      "source": [
        "y_test"
      ],
      "metadata": {
        "colab": {
          "base_uri": "https://localhost:8080/"
        },
        "id": "desCjmlOiuPx",
        "outputId": "d4cb08a5-0d63-4a80-b23a-31a48e2cd5e6"
      },
      "execution_count": 26,
      "outputs": [
        {
          "output_type": "execute_result",
          "data": {
            "text/plain": [
              "array([ 6.43354969,  9.20628809,  3.93420625, 11.07162609, 10.54182798,\n",
              "        0.07362494, -0.80295435, -6.41490472,  9.34393209,  5.83680374])"
            ]
          },
          "metadata": {},
          "execution_count": 26
        }
      ]
    },
    {
      "cell_type": "code",
      "source": [
        "y_prediction_test, error_few = locally_weighted_linear_regression_test(theta_few, new_x, x_test, x_train_few,y_test)\n",
        "print (error_few)\n",
        "print(y_prediction_test)"
      ],
      "metadata": {
        "colab": {
          "base_uri": "https://localhost:8080/"
        },
        "id": "lDlfT4pDHZES",
        "outputId": "112653e5-3354-4340-c748-7650bc099455"
      },
      "execution_count": 27,
      "outputs": [
        {
          "output_type": "stream",
          "name": "stdout",
          "text": [
            "0.5985416822021258\n",
            "[ 7.32280105 10.15091424  4.50527344 12.08983901 11.19535779  0.03816016\n",
            " -0.46465473 -6.68897371 10.76487768  6.60121759]\n"
          ]
        }
      ]
    },
    {
      "cell_type": "code",
      "source": [
        "plt.scatter(x_test, y_test, color='g')\n",
        "axis = operator.itemgetter(0)\n",
        "axis_zip = sorted(zip(x_test,y_prediction_test), key=axis)\n",
        "x_test, y_pred2 = zip(*axis_zip)\n",
        "plt.plot(x_test, y_pred2, color='r')\n",
        "plt.xlabel('x_value')\n",
        "plt.ylabel('y_value')\n",
        "plt.title(f' Prediction error of {error_few}')\n",
        "plt.show()"
      ],
      "metadata": {
        "colab": {
          "base_uri": "https://localhost:8080/",
          "height": 301
        },
        "id": "oPvepT_XHd74",
        "outputId": "9441cc63-b4e2-4746-e01f-c7b434348267"
      },
      "execution_count": 28,
      "outputs": [
        {
          "output_type": "display_data",
          "data": {
            "text/plain": [
              "<Figure size 432x288 with 1 Axes>"
            ],
            "image/png": "[encoded data removed]"
          },
          "metadata": {}
        }
      ]
    },
    {
      "cell_type": "markdown",
      "source": [
        "The error produce when testing by training using only first 20 training points is higher than the error produced when we used all the training data points, this is because the algorithm got very limited number of points to train and the weight matrix updation depends on the amount of training data we pass to the algorithm. \n",
        "Hence training algorithm using all data points produced better results."
      ],
      "metadata": {
        "id": "FLLSHosbyri_"
      }
    },
    {
      "cell_type": "markdown",
      "source": [
        "2e) I think it was dervied from the function which was used in the 1c because the error produced while training and testing the dataset was comparetively less.\n",
        "\n",
        "Based on the testset graph produced by linear regression in 1c, the line is linear and with less amount of error for functional depth 3\n",
        "\n",
        "the testset graph produced by the locally weighted linear regression has more error compared to the linear regression\n",
        "\n",
        "hence the function used in linear regression gives better dataset derivation from the function format."
      ],
      "metadata": {
        "id": "aaHlJeph6G9l"
      }
    }
  ]
}